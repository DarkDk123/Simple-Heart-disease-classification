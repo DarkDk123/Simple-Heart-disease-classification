{
 "cells": [
  {
   "cell_type": "markdown",
   "metadata": {},
   "source": [
    "# **Heart Disease prediction using Machine Learning**\n",
    "\n",
    "We're going to use various python based ML & Data Science libraries in order to build a Machine learning Model capable of predicting whether a patient has heart disease, based on the medical data of the patient.\n",
    "\n",
    "We'll use **Supervised machine learning** as the data we've is labelled.\n",
    "\n",
    "We'll use the following steps to define our workflow:\n",
    "\n",
    "1. **Problem definition :** What's the problem, it's type in ML & what we have to get as output.\n",
    "2. **Data :** Look into the data we've, it's source, properties etc.\n",
    "3. **Target (Success) :** What is success for us, what level of results we wanted from our model.\n",
    "4. **Features :** Look into the Features **(predicting variables)**, what's necessary etc.\n",
    "5. **Modelling :** It includes a number of things.\n",
    "    * Get the data ready for the model, Explore and preprocess it.\n",
    "    * Get the best base model for our data & problem, it is generally recursive approach.\n",
    "    * Evaluate our model on various metrics & with different techniques.\n",
    "    * Quantify the model's performance, as results.\n",
    "6. **Experimentation :** The overall Process is very experimental, we've to try different things & determine the best output for us.\n",
    "\n",
    "At the end **ML is all about Experimentation.**\n",
    "\n",
    "![](./Images/Steps.png)"
   ]
  },
  {
   "cell_type": "markdown",
   "metadata": {},
   "source": [
    "## **Let's tackle the steps:**\n",
    "\n",
    "\n",
    "### **Problem :**\n",
    "\n",
    "In a statement,\n",
    "> Given clinical attributes of a patient, can we predict whether the patient has any heart disease or not?\n",
    "\n",
    "The problem is a **ML Binary Classification** problem i.e. we've to determine whether a patient belongs to diseased group or not!\n",
    "\n",
    "### **Data :**\n",
    "\n",
    "> The original data comes from UCI Machine Learning Repo, Cleveland data [repository](https://archive.ics.uci.edu/dataset/45/heart+disease).\n",
    "\n",
    "There is also a Kaggle Notebook of the dataset for more details [here](https://www.kaggle.com/datasets/johnsmith88/heart-disease-dataset/data).\n",
    "\n",
    "### **Target | Success**\n",
    "\n",
    "We're building a model to predict whether a patient has heart disease or not!.\n",
    "\n",
    "**medical** predictions are really **crucial**, We will target a **95% or over** prediction accuracy for our model to be used in Production.\n",
    "\n",
    "### **Features Understanding**\n",
    "\n",
    "Here, the dataset is **already curated** & have all **14 important features** present.\n",
    "\n",
    "**The Data Dictionary**, what the columns mean!\n",
    "\n",
    "\n",
    "\n",
    "* age.\n",
    "* sex.\n",
    "* chest pain type (4 values).\n",
    "* resting blood pressure.\n",
    "* serum cholestoral in mg/dl.\n",
    "* fasting blood sugar > 120 mg/dl.\n",
    "* resting electrocardiographic results (values 0,1,2).\n",
    "* maximum heart rate achieved.\n",
    "* exercise induced angina.\n",
    "* oldpeak = ST depression induced by exercise relative to rest.\n",
    "* the slope of the peak exercise ST segment.\n",
    "* number of major vessels (0-3) colored by flourosopy.\n",
    "* thal: 0 = normal; 1 = fixed defect; 2 = reversable defect.\n",
    "* The names and social security numbers of the patients were recently removed from the database, replaced with dummy values."
   ]
  }
 ],
 "metadata": {
  "kernelspec": {
   "display_name": "prENV",
   "language": "python",
   "name": "python3"
  },
  "language_info": {
   "codemirror_mode": {
    "name": "ipython",
    "version": 3
   },
   "file_extension": ".py",
   "mimetype": "text/x-python",
   "name": "python",
   "nbconvert_exporter": "python",
   "pygments_lexer": "ipython3",
   "version": "3.11.5"
  }
 },
 "nbformat": 4,
 "nbformat_minor": 2
}
